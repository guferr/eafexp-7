{
 "cells": [
  {
   "cell_type": "code",
   "execution_count": 1,
   "metadata": {},
   "outputs": [],
   "source": [
    "from math import sqrt, pi, cos, sin, tan\n",
    "import numpy as np\n",
    "\n",
    "\n",
    "def sortTopPos(L):\n",
    "    xsort=np.random.rand()*L\n",
    "    ysort=np.random.rand()*L\n",
    "    return xsort,ysort\n",
    "\n",
    "def IsInside(x,y,L):\n",
    "    return ((0.< x <= L) and (0.<= y <= L))\n",
    "\n",
    "def calcPosInf(x_sup,y_sup,zen,azi,H):\n",
    "        zen_tan=tan(zen)   \n",
    "        slopex=cos(azi)*zen_tan\n",
    "        slopey=sin(azi)*zen_tan\n",
    "        x_inf=x_sup+slopex*H\n",
    "        y_inf=y_sup+slopey*H\n",
    "        return x_inf,y_inf\n",
    "    \n",
    "def sortcos2():\n",
    "    while True:\n",
    "        x=np.random.rand()*pi/2. #zenite indo de 0 até 90°\n",
    "        y=np.random.rand()*2./(3.*np.sqrt(3.))  #essa constante é o máximo da função sin(x)cos²(x)\n",
    "        fx=sin(x)*cos(x)**2.\n",
    "        if(y<fx):\n",
    "            return x\n",
    "\n",
    "def simulation(Nevts,H,L):\n",
    "    Nhits = 0\n",
    "    for ievt in range(0,Nevts):      \n",
    "        x_sup,y_sup=sortTopPos(L)\n",
    "        zen = sortcos2()\n",
    "        azi = np.random.rand()*2*pi\n",
    "        x_inf, y_inf = calcPosInf(x_sup,y_sup,zen,azi,H)\n",
    "        if (IsInside(x_inf,y_inf,L)):\n",
    "                Nhits = Nhits + 1                                                    \n",
    "    return Nhits/Nevts"
   ]
  },
  {
   "cell_type": "markdown",
   "metadata": {},
   "source": [
    "Vamos usar a função `simulation()` com 100000 eventos para obter uma lista com as eficiências para cada uma das pads:"
   ]
  },
  {
   "cell_type": "code",
   "execution_count": null,
   "metadata": {},
   "outputs": [],
   "source": [
    "Nevts = 1000000\n",
    "Npad1_list, zen_list, azi_list,eff_list = [], [], [], []\n",
    "H=200\n",
    "L=50\n",
    "eff=(simulation(Nevts,H,L))\n",
    "print(eff)"
   ]
  },
  {
   "cell_type": "code",
   "execution_count": null,
   "metadata": {},
   "outputs": [],
   "source": []
  }
 ],
 "metadata": {
  "authors": [
   {
    "name": "Felipe L. S. de Almeida"
   },
   {
    "name": "Alberto C. dos Reis"
   }
  ],
  "kernelspec": {
   "display_name": "Python 3",
   "language": "python",
   "name": "python3"
  },
  "language_info": {
   "codemirror_mode": {
    "name": "ipython",
    "version": 3
   },
   "file_extension": ".py",
   "mimetype": "text/x-python",
   "name": "python",
   "nbconvert_exporter": "python",
   "pygments_lexer": "ipython3",
   "version": "3.6.9"
  },
  "title": "EAFExp - Análise",
  "vscode": {
   "interpreter": {
    "hash": "76813a6824125cf41d3d63816927c078642110ebe65916c0d466e8f06d2b039d"
   }
  }
 },
 "nbformat": 4,
 "nbformat_minor": 2
}
